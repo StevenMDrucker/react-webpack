{
 "cells": [
  {
   "cell_type": "code",
   "execution_count": 3,
   "metadata": {
    "collapsed": true
   },
   "outputs": [],
   "source": [
    "import nltk\n",
    "import sys\n",
    "import io"
   ]
  },
  {
   "cell_type": "code",
   "execution_count": 5,
   "metadata": {
    "collapsed": false
   },
   "outputs": [],
   "source": [
    "with io.open(\"/Users/sdrucker/WebSite/sdrucker/papers/chat.txt\") as f:\n",
    "    paperfile = f.read()"
   ]
  },
  {
   "cell_type": "code",
   "execution_count": 6,
   "metadata": {
    "collapsed": false
   },
   "outputs": [
    {
     "data": {
      "text/plain": [
       "32970"
      ]
     },
     "execution_count": 6,
     "metadata": {},
     "output_type": "execute_result"
    }
   ],
   "source": [
    "len(paperfile)"
   ]
  },
  {
   "cell_type": "code",
   "execution_count": 7,
   "metadata": {
    "collapsed": true
   },
   "outputs": [],
   "source": [
    "from nltk.tokenize import word_tokenize"
   ]
  },
  {
   "cell_type": "code",
   "execution_count": 8,
   "metadata": {
    "collapsed": true
   },
   "outputs": [],
   "source": [
    "from nltk.probability import ConditionalFreqDist"
   ]
  },
  {
   "cell_type": "code",
   "execution_count": 11,
   "metadata": {
    "collapsed": false
   },
   "outputs": [
    {
     "name": "stdout",
     "output_type": "stream",
     "text": [
      "showing info https://raw.githubusercontent.com/nltk/nltk_data/gh-pages/index.xml\n",
      "showing info https://raw.githubusercontent.com/nltk/nltk_data/gh-pages/index.xml\n"
     ]
    },
    {
     "data": {
      "text/plain": [
       "True"
      ]
     },
     "execution_count": 11,
     "metadata": {},
     "output_type": "execute_result"
    }
   ],
   "source": [
    "nltk.download()"
   ]
  },
  {
   "cell_type": "code",
   "execution_count": 15,
   "metadata": {
    "collapsed": false
   },
   "outputs": [],
   "source": [
    "cfdist = ConditionalFreqDist((len(word),word) for word in word_tokenize(paperfile))"
   ]
  },
  {
   "cell_type": "code",
   "execution_count": 16,
   "metadata": {
    "collapsed": true
   },
   "outputs": [],
   "source": [
    "cfdist.plot()"
   ]
  },
  {
   "cell_type": "code",
   "execution_count": 17,
   "metadata": {
    "collapsed": false
   },
   "outputs": [
    {
     "ename": "TypeError",
     "evalue": "unhashable type: 'slice'",
     "output_type": "error",
     "traceback": [
      "\u001b[1;31m---------------------------------------------------------------------------\u001b[0m",
      "\u001b[1;31mTypeError\u001b[0m                                 Traceback (most recent call last)",
      "\u001b[1;32m<ipython-input-17-795549a0d09f>\u001b[0m in \u001b[0;36m<module>\u001b[1;34m()\u001b[0m\n\u001b[1;32m----> 1\u001b[1;33m \u001b[0mcfdist\u001b[0m\u001b[1;33m[\u001b[0m\u001b[1;36m0\u001b[0m\u001b[1;33m:\u001b[0m\u001b[1;36m5\u001b[0m\u001b[1;33m]\u001b[0m\u001b[1;33m\u001b[0m\u001b[0m\n\u001b[0m",
      "\u001b[1;31mTypeError\u001b[0m: unhashable type: 'slice'"
     ]
    }
   ],
   "source": [
    "cfdist[0:5]"
   ]
  },
  {
   "cell_type": "code",
   "execution_count": 19,
   "metadata": {
    "collapsed": false
   },
   "outputs": [
    {
     "data": {
      "text/plain": [
       "dict_keys([1, 2, 3, 4, 5, 6, 7, 8, 9, 10, 11, 12, 13, 14, 15, 16, 17, 18, 29])"
      ]
     },
     "execution_count": 19,
     "metadata": {},
     "output_type": "execute_result"
    }
   ],
   "source": [
    "cfdist.keys()"
   ]
  },
  {
   "cell_type": "code",
   "execution_count": 20,
   "metadata": {
    "collapsed": false
   },
   "outputs": [
    {
     "data": {
      "text/plain": [
       "dict_items([(1, FreqDist({',': 358, '.': 279, 'a': 125, ')': 41, ':': 37, '(': 32, ']': 24, '[': 24, '\\xad': 23, '3': 15, ...})), (2, FreqDist({'of': 174, 'to': 168, 'in': 99, 'is': 48, 'as': 48, 'on': 46, '``': 36, 'we': 34, \"''\": 34, 'or': 33, ...})), (3, FreqDist({'the': 340, 'and': 102, 'was': 42, 'for': 31, 'The': 26, 'are': 25, 'not': 22, 'has': 18, 'can': 16, 'but': 13, ...})), (4, FreqDist({'that': 71, 'chat': 57, 'user': 56, 'with': 45, 'were': 31, 'text': 26, 'more': 24, 'time': 21, 'they': 21, 'this': 21, ...})), (5, FreqDist({'turns': 35, 'would': 33, 'users': 33, 'their': 23, 'other': 20, 'which': 14, 'first': 13, 'Black': 12, 'there': 11, 'right': 9, ...})), (6, FreqDist({'client': 45, 'people': 29, 'status': 23, 'typing': 19, 'screen': 16, 'number': 13, 'Figure': 9, 'before': 8, 'scroll': 7, 'groups': 6, ...})), (7, FreqDist({'history': 24, 'display': 10, 'Virtual': 9, 'clients': 8, 'version': 7, 'seconds': 6, 'problem': 6, 'context': 6, 'between': 5, 'results': 5, ...})), (8, FreqDist({'standard': 17, 'problems': 10, 'question': 10, 'timeline': 10, 'accuracy': 8, 'previous': 5, 'multiple': 5, 'software': 4, 'platform': 4, 'addition': 4, ...})), (9, FreqDist({'interface': 16, 'scrolling': 10, 'different': 7, 'streaming': 6, 'something': 5, 'prototype': 4, 'suggested': 4, 'efficient': 4, 'confusion': 4, 'suspicion': 4, ...})), (10, FreqDist({'particular': 10, 'conference': 9, 'interfaces': 7, 'persistent': 4, 'transcript': 4, 'efficiency': 4, 'constantly': 3, 'Transcript': 3, 'Electronic': 3, 'experiment': 3, ...})), (11, FreqDist({'information': 13, 'proceedings': 6, 'qualitative': 4, 'corrections': 3, 'participate': 3, 'application': 3, 'alternative': 3, 'experienced': 3, 'Distributed': 3, 'fundamental': 2, ...})), (12, FreqDist({'conversation': 20, 'participants': 13, 'quantitative': 3, 'continuously': 2, 'applications': 2, 'face-to-face': 2, 'difficulties': 1, 'interrupting': 1, 'INTRODUCTION': 1, 'time-sharing': 1, ...})), (13, FreqDist({'communication': 9, 'Communication': 6, 'conversations': 6, 'questionnaire': 3, 'Collaborative': 2, 'approximately': 2, 'configuration': 1, 'Instructional': 1, 'client/server': 1, 'Interactional': 1, ...})), (14, FreqDist({'representation': 2, 'communications': 2, 'computer-based': 2, 'status-enabled': 1, 'topic-a-minute': 1, 'clarifications': 1, 'Communications': 1, 'Quantitatively': 1, 'representative': 1, 'Organizational': 1})), (15, FreqDist({'representations': 3, 'signal-to-noise': 2, 'characteristics': 1, 'timing-specific': 1, 'vertigoinducing': 1, 'Beaudouin-Lafon': 1, 'Decision-Making': 1})), (16, FreqDist({'teleconferencing': 2, 'computermediated': 1, 'ACKNOWLEDGEMENTS': 1})), (17, FreqDist({'misunderstandings': 1, 'Computer-Mediated': 1, 'computer-mediated': 1})), (18, FreqDist({'inactivity-related': 1})), (29, FreqDist({'//research.microsoft.com/vwg/': 1}))])"
      ]
     },
     "execution_count": 20,
     "metadata": {},
     "output_type": "execute_result"
    }
   ],
   "source": [
    "cfdist.items()"
   ]
  },
  {
   "cell_type": "code",
   "execution_count": 21,
   "metadata": {
    "collapsed": false
   },
   "outputs": [
    {
     "name": "stdout",
     "output_type": "stream",
     "text": [
      "*** Introductory Examples for the NLTK Book ***\n",
      "Loading text1, ..., text9 and sent1, ..., sent9\n",
      "Type the name of the text or sentence to view it.\n",
      "Type: 'texts()' or 'sents()' to list the materials.\n",
      "text1: Moby Dick by Herman Melville 1851\n",
      "text2: Sense and Sensibility by Jane Austen 1811\n",
      "text3: The Book of Genesis\n",
      "text4: Inaugural Address Corpus\n",
      "text5: Chat Corpus\n",
      "text6: Monty Python and the Holy Grail\n",
      "text7: Wall Street Journal\n",
      "text8: Personals Corpus\n",
      "text9: The Man Who Was Thursday by G . K . Chesterton 1908\n"
     ]
    }
   ],
   "source": [
    "from nltk.book import *"
   ]
  },
  {
   "cell_type": "code",
   "execution_count": 22,
   "metadata": {
    "collapsed": false
   },
   "outputs": [
    {
     "data": {
      "text/plain": [
       "<Text: Moby Dick by Herman Melville 1851>"
      ]
     },
     "execution_count": 22,
     "metadata": {},
     "output_type": "execute_result"
    }
   ],
   "source": [
    "text1"
   ]
  },
  {
   "cell_type": "code",
   "execution_count": 23,
   "metadata": {
    "collapsed": false
   },
   "outputs": [
    {
     "name": "stdout",
     "output_type": "stream",
     "text": [
      "Displaying 25 of 1226 matches:\n",
      "s , and to teach them by what name a whale - fish is to be called in our tongue\n",
      "t which is not true .\" -- HACKLUYT \" WHALE . ... Sw . and Dan . HVAL . This ani\n",
      "ulted .\" -- WEBSTER ' S DICTIONARY \" WHALE . ... It is more immediately from th\n",
      "ISH . WAL , DUTCH . HWAL , SWEDISH . WHALE , ICELANDIC . WHALE , ENGLISH . BALE\n",
      "HWAL , SWEDISH . WHALE , ICELANDIC . WHALE , ENGLISH . BALEINE , FRENCH . BALLE\n",
      "least , take the higgledy - piggledy whale statements , however authentic , in \n",
      " dreadful gulf of this monster ' s ( whale ' s ) mouth , are immediately lost a\n",
      " patient Job .\" -- RABELAIS . \" This whale ' s liver was two cartloads .\" -- ST\n",
      " Touching that monstrous bulk of the whale or ork we have received nothing cert\n",
      " of oil will be extracted out of one whale .\" -- IBID . \" HISTORY OF LIFE AND D\n",
      "ise .\" -- KING HENRY . \" Very like a whale .\" -- HAMLET . \" Which to secure , n\n",
      "restless paine , Like as the wounded whale to shore flies thro ' the maine .\" -\n",
      ". OF SPERMA CETI AND THE SPERMA CETI WHALE . VIDE HIS V . E . \" Like Spencer ' \n",
      "t had been a sprat in the mouth of a whale .\" -- PILGRIM ' S PROGRESS . \" That \n",
      "EN ' S ANNUS MIRABILIS . \" While the whale is floating at the stern of the ship\n",
      "e ship called The Jonas - in - the - Whale . ... Some say the whale can ' t ope\n",
      " in - the - Whale . ... Some say the whale can ' t open his mouth , but that is\n",
      " masts to see whether they can see a whale , for the first discoverer has a duc\n",
      " for his pains . ... I was told of a whale taken near Shetland , that had above\n",
      "oneers told me that he caught once a whale in Spitzbergen that was white all ov\n",
      "2 , one eighty feet in length of the whale - bone kind came in , which ( as I w\n",
      "n master and kill this Sperma - ceti whale , for I could never hear of any of t\n",
      " . 1729 . \"... and the breath of the whale is frequendy attended with such an i\n",
      "ed with hoops and armed with ribs of whale .\" -- RAPE OF THE LOCK . \" If we com\n",
      "contemptible in the comparison . The whale is doubtless the largest animal in c\n"
     ]
    }
   ],
   "source": [
    "text1.concordance(\"whale\")"
   ]
  },
  {
   "cell_type": "code",
   "execution_count": 25,
   "metadata": {
    "collapsed": false
   },
   "outputs": [
    {
     "name": "stdout",
     "output_type": "stream",
     "text": [
      "whales tisbury enlisting watts him vishnu jonah sailing manchester\n",
      "windward honesty cattle that malignant object drawers figure pretend\n",
      "after kings\n"
     ]
    }
   ],
   "source": [
    "text1.similar(\"evil\")"
   ]
  },
  {
   "cell_type": "code",
   "execution_count": 26,
   "metadata": {
    "collapsed": true
   },
   "outputs": [],
   "source": [
    "text4.dispersion_plot([\"citizens\", \"freedom\", \"duties\", \"America\"])"
   ]
  },
  {
   "cell_type": "code",
   "execution_count": 28,
   "metadata": {
    "collapsed": false
   },
   "outputs": [],
   "source": [
    "mytokens = nltk.word_tokenize(paperfile)"
   ]
  },
  {
   "cell_type": "code",
   "execution_count": 29,
   "metadata": {
    "collapsed": true
   },
   "outputs": [],
   "source": [
    "mytext = nltk.text.Text(mytokens)"
   ]
  },
  {
   "cell_type": "code",
   "execution_count": 30,
   "metadata": {
    "collapsed": false
   },
   "outputs": [
    {
     "data": {
      "text/plain": [
       "<Text: Streaming Media Interfaces for Chat David Vronay ,...>"
      ]
     },
     "execution_count": 30,
     "metadata": {},
     "output_type": "execute_result"
    }
   ],
   "source": [
    "mytext"
   ]
  },
  {
   "cell_type": "code",
   "execution_count": 31,
   "metadata": {
    "collapsed": false
   },
   "outputs": [
    {
     "name": "stdout",
     "output_type": "stream",
     "text": [
      "Displaying 25 of 68 matches:\n",
      "                                     Chat David Vronay , Marc Smith , and Stev\n",
      "nced by users of computer-based text chat , and show how many of these problem\n",
      "mation . We suggest that thinking of chat as a streaming media data type might\n",
      "then present a number of alternative chat interfaces along with results from u\n",
      "ith each other and with the standard chat interface . KEYWORDS Chat , computer\n",
      "e standard chat interface . KEYWORDS Chat , computer-mediated communication , \n",
      " communication known generally as `` Chat '' . Chat consists of two to twenty \n",
      "tion known generally as `` Chat '' . Chat consists of two to twenty or more pe\n",
      "ften known as a `` channel '' , a `` chat room '' , or simply a `` room '' ) .\n",
      "t to all of the other participants . Chat has been incredibly popular since it\n",
      "et . Currently there are hundreds of chat servers , each with dozens of active\n",
      "y , the user interface presented for chat has remained largely unchanged since\n",
      "ince its first inception . A typical chat interface consists of a list of part\n",
      "gure 1 ) As a communication medium , chat is not without its problems . The co\n",
      " its problems . The conversations in chat tend to be hard to follow . People h\n",
      "ads at the same time . As a result , chat conversations tend to be confusing a\n",
      "ies have suggested that in a typical chat conversation , as many as 40 % of th\n",
      "enty years . CMC generally considers chat along side of other computer-based c\n",
      "fundamental user interface of social chat software , and very few examples wit\n",
      "les with actual quantitative data on chat conversations [ 9 ] . Much work has \n",
      "tempt to overcome the limitations of chat software , and the degree to which t\n",
      "structured communication of a social chat , they mostly involve notions of flo\n",
      "appropriate in the free-for-all of a chat room . Figure 1 : MS-Chat , a standa\n",
      "om . Figure 1 : MS-Chat , a standard chat client CMC is also frequently discus\n",
      "tations of CMC . FACTORS INFLUENCING CHAT EFFICIENCY There are many factors th\n"
     ]
    }
   ],
   "source": [
    "mytext.concordance(\"chat\")"
   ]
  },
  {
   "cell_type": "code",
   "execution_count": 32,
   "metadata": {
    "collapsed": false
   },
   "outputs": [
    {
     "data": {
      "text/plain": [
       "6413"
      ]
     },
     "execution_count": 32,
     "metadata": {},
     "output_type": "execute_result"
    }
   ],
   "source": [
    "len(mytext)"
   ]
  },
  {
   "cell_type": "code",
   "execution_count": 33,
   "metadata": {
    "collapsed": false
   },
   "outputs": [
    {
     "data": {
      "text/plain": [
       "57"
      ]
     },
     "execution_count": 33,
     "metadata": {},
     "output_type": "execute_result"
    }
   ],
   "source": [
    "mytext.count(\"chat\")"
   ]
  },
  {
   "cell_type": "code",
   "execution_count": 36,
   "metadata": {
    "collapsed": false
   },
   "outputs": [
    {
     "ename": "SyntaxError",
     "evalue": "unexpected EOF while parsing (<ipython-input-36-220746e349cf>, line 1)",
     "output_type": "error",
     "traceback": [
      "\u001b[1;36m  File \u001b[1;32m\"<ipython-input-36-220746e349cf>\"\u001b[1;36m, line \u001b[1;32m1\u001b[0m\n\u001b[1;33m    len(set(mytext))/len(mytext()\u001b[0m\n\u001b[1;37m                                 ^\u001b[0m\n\u001b[1;31mSyntaxError\u001b[0m\u001b[1;31m:\u001b[0m unexpected EOF while parsing\n"
     ]
    }
   ],
   "source": [
    "len(set(mytext))/len(mytext()"
   ]
  },
  {
   "cell_type": "code",
   "execution_count": null,
   "metadata": {
    "collapsed": true
   },
   "outputs": [],
   "source": []
  }
 ],
 "metadata": {
  "kernelspec": {
   "display_name": "Python 3",
   "language": "python",
   "name": "python3"
  },
  "language_info": {
   "codemirror_mode": {
    "name": "ipython",
    "version": 3
   },
   "file_extension": ".py",
   "mimetype": "text/x-python",
   "name": "python",
   "nbconvert_exporter": "python",
   "pygments_lexer": "ipython3",
   "version": "3.5.2"
  }
 },
 "nbformat": 4,
 "nbformat_minor": 0
}
